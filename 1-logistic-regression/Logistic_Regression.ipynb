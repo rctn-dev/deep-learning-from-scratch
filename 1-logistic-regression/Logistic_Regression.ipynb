{
 "cells": [
  {
   "cell_type": "markdown",
   "metadata": {},
   "source": [
    "Pass"
   ]
  },
  {
   "cell_type": "code",
   "execution_count": 54,
   "metadata": {},
   "outputs": [],
   "source": [
    "import numpy as np\n",
    "import copy\n",
    "import matplotlib.pyplot as plt\n",
    "import h5py"
   ]
  },
  {
   "cell_type": "code",
   "execution_count": 55,
   "metadata": {},
   "outputs": [],
   "source": [
    "# load dataset, the dataset is retrieved from kaggle.com\n",
    "def load_dataset(train_file, test_file):\n",
    "    f_train = h5py.File(train_file, 'r')\n",
    "    f_test = h5py.File(test_file, 'r')\n",
    " \n",
    "    train_set_x=np.array(f_train['train_set_x'][:])\n",
    "    train_set_y=f_train['train_set_y'][:]\n",
    "    test_set_x=f_test['test_set_x'][:]\n",
    "    test_set_y=f_test['test_set_y'][:]\n",
    "    classes=f_train['list_classes'][:]\n",
    "\n",
    "    return train_set_x, train_set_y, test_set_x, test_set_y,classes"
   ]
  },
  {
   "cell_type": "code",
   "execution_count": 56,
   "metadata": {},
   "outputs": [
    {
     "name": "stdout",
     "output_type": "stream",
     "text": [
      "cat-vs-noncat data succesfully loaded\n",
      "Sample data:\n",
      "it is a 'non-cat' picture\n"
     ]
    },
    {
     "data": {
      "image/png": "[encoded data removed]",
      "text/plain": [
       "<Figure size 640x480 with 1 Axes>"
      ]
     },
     "metadata": {},
     "output_type": "display_data"
    }
   ],
   "source": [
    "# Loading the data (cat/non-cat)\n",
    "train_set_x_orig, train_set_y, test_set_x_orig, test_set_y,classes=load_dataset('../catvnoncat/train_catvnoncat.h5','../catvnoncat/test_catvnoncat.h5')\n",
    "print(\"cat-vs-noncat data succesfully loaded\")\n",
    "# Example of a picture\n",
    "print(\"Sample data:\")\n",
    "index=63\n",
    "plt.imshow(train_set_x_orig[index])\n",
    "\n",
    "print (\"it is a '\"+ classes[(train_set_y[index])].decode(\"utf-8\")+\"' picture\" )\n"
   ]
  },
  {
   "cell_type": "markdown",
   "metadata": {},
   "source": [
    "Pass"
   ]
  },
  {
   "cell_type": "code",
   "execution_count": 57,
   "metadata": {},
   "outputs": [
    {
     "name": "stdout",
     "output_type": "stream",
     "text": [
      "Number of classes: 2\n",
      "Number of training examples: m_train = 209\n",
      "Number of testing examples: m_test = 50\n",
      "Height/Width of each image: num_px = 64\n",
      "Each image is of size: (64, 64, 3)\n",
      "train_set_x shape: (209, 64, 64, 3)\n",
      "train_set_y shape: (209,)\n",
      "test_set_x shape: (50, 64, 64, 3)\n",
      "test_set_y shape: (50,)\n"
     ]
    }
   ],
   "source": [
    "\n",
    "# Dataset specifications\n",
    "m_train= train_set_x_orig.shape[0]\n",
    "m_test= test_set_x_orig.shape[0]\n",
    "num_px= train_set_x_orig[index].shape[0]\n",
    "\n",
    "\n",
    "print (\"Number of classes: \" + str(np.squeeze(classes.shape)))\n",
    "print (\"Number of training examples: m_train = \" + str(m_train))\n",
    "print (\"Number of testing examples: m_test = \" + str(m_test))\n",
    "print (\"Height/Width of each image: num_px = \" + str(num_px))\n",
    "print (\"Each image is of size: (\" + str(num_px) + \", \" + str(num_px) + \", 3)\")\n",
    "print (\"train_set_x shape: \" + str(train_set_x_orig.shape))\n",
    "print (\"train_set_y shape: \" + str(train_set_y.shape))\n",
    "print (\"test_set_x shape: \" + str(test_set_x_orig.shape))\n",
    "print (\"test_set_y shape: \" + str(test_set_y.shape))"
   ]
  },
  {
   "cell_type": "markdown",
   "metadata": {},
   "source": [
    "reshape can also be used for flatten operation.\n"
   ]
  },
  {
   "cell_type": "code",
   "execution_count": 58,
   "metadata": {},
   "outputs": [
    {
     "name": "stdout",
     "output_type": "stream",
     "text": [
      "train_set_x shape: (12288, 209)\n",
      "train_set_y shape: (209,)\n",
      "test_set_x shape: (12288, 50)\n",
      "test_set_y shape: (50,)\n"
     ]
    }
   ],
   "source": [
    "# reshape and normalize the training and test samples\n",
    "# samples should be placed column-wise\n",
    "train_set_x = train_set_x_orig.reshape(train_set_x_orig.shape[0], -1).T\n",
    "test_set_x = test_set_x_orig.reshape(test_set_x_orig.shape[0], -1).T \n",
    "\n",
    "print (\"train_set_x shape: \" + str(train_set_x.shape))\n",
    "print (\"train_set_y shape: \" + str(train_set_y.shape))\n",
    "print (\"test_set_x shape: \" + str(test_set_x.shape))\n",
    "print (\"test_set_y shape: \" + str(test_set_y.shape))\n",
    "train_set_x = train_set_x / 255.\n",
    "test_set_x = test_set_x / 255."
   ]
  },
  {
   "cell_type": "markdown",
   "metadata": {},
   "source": []
  },
  {
   "cell_type": "code",
   "execution_count": 59,
   "metadata": {},
   "outputs": [],
   "source": [
    "def sigmoid(z):\n",
    "\n",
    "    s=1/(1+np.exp(-z))\n",
    "\n",
    "    return s"
   ]
  },
  {
   "cell_type": "markdown",
   "metadata": {},
   "source": []
  },
  {
   "cell_type": "code",
   "execution_count": 60,
   "metadata": {},
   "outputs": [],
   "source": [
    "# initialize with zeros\n",
    "\n",
    "def initialize_with_zeros(dim):\n",
    "    \n",
    "    w=np.zeros((dim, 1))\n",
    "    b=0.0\n",
    "    return w, b"
   ]
  },
  {
   "cell_type": "markdown",
   "metadata": {},
   "source": []
  },
  {
   "cell_type": "code",
   "execution_count": 61,
   "metadata": {},
   "outputs": [],
   "source": [
    "# propagate\n",
    "\n",
    "def propagate(w, b, X, Y):\n",
    "\n",
    "    # number of samples equivalent to number of columns of X matrix (n,m).\n",
    "    m = X.shape[1]\n",
    "\n",
    "    # forward propagation\n",
    "    # compute activation\n",
    "    A=sigmoid(np.dot(w.T,X)+b)\n",
    "    \n",
    "    # compute cost by using np.dot to perform one-by-one multiplication\n",
    "    cost=-(Y*np.log(A)+(1-Y)*np.log(1-A))\n",
    "    cost=np.sum(cost)/m\n",
    "\n",
    "    # backward propagation\n",
    "    dw=np.dot(X,(A-Y).T)/m\n",
    "    db=np.sum(A-Y)/m\n",
    "\n",
    "    cost = np.array(cost)\n",
    "\n",
    "    grads = {\"dw\": dw,\n",
    "             \"db\": db}\n",
    "    \n",
    "    return grads, cost"
   ]
  },
  {
   "cell_type": "markdown",
   "metadata": {},
   "source": []
  },
  {
   "cell_type": "code",
   "execution_count": 62,
   "metadata": {},
   "outputs": [],
   "source": [
    "# optimize\n",
    "\n",
    "def optimize(w, b, X, Y, num_iterations=100, learning_rate=0.009):\n",
    "    \n",
    "    w = copy.deepcopy(w)\n",
    "    b = copy.deepcopy(b)\n",
    "    \n",
    "    costs = []\n",
    "    \n",
    "    for i in range(num_iterations):\n",
    "\n",
    "        # Cost and gradient calculation \n",
    "        grads, cost= propagate(w, b, X, Y)\n",
    "\n",
    "        # Retrieve derivatives from grads\n",
    "        dw = grads[\"dw\"]\n",
    "        db = grads[\"db\"]\n",
    "        \n",
    "        # update w and b\n",
    "        w=w-learning_rate*dw\n",
    "        b=b-learning_rate*db\n",
    "        \n",
    "        # Record the costs\n",
    "        if i % 100 == 0:\n",
    "            costs.append(cost)\n",
    "    \n",
    "            # Print the cost every 100 training iterations\n",
    "            print (\"Cost after iteration %i: %f\" %(i, cost))\n",
    "            \n",
    "    # After iterations are complete, record the final (w,b) and grads and costs\n",
    "    params = {\"w\": w,\n",
    "              \"b\": b}\n",
    "    \n",
    "    grads = {\"dw\": dw,\n",
    "             \"db\": db}\n",
    "    \n",
    "    return params, grads, costs"
   ]
  },
  {
   "cell_type": "markdown",
   "metadata": {},
   "source": [
    "Pass"
   ]
  },
  {
   "cell_type": "code",
   "execution_count": 63,
   "metadata": {},
   "outputs": [],
   "source": [
    "# predict\n",
    "\n",
    "def predict(w, b, X):\n",
    "\n",
    "    m = X.shape[1]\n",
    "    Y_predict = np.zeros((1, m))\n",
    "    w = w.reshape(X.shape[0], 1)\n",
    "    \n",
    "    # Compute activation vector\n",
    "    A=sigmoid(np.dot(w.T,X)+b)\n",
    "\n",
    "    #converting activation values into 1 and 0 with list comprehension\n",
    "    Y_predict=np.array([ A[0,i]>0.5 for i in range(A.shape[1])])\n",
    "    \n",
    "    return Y_predict"
   ]
  },
  {
   "cell_type": "markdown",
   "metadata": {},
   "source": [
    "Pass"
   ]
  },
  {
   "cell_type": "code",
   "execution_count": 64,
   "metadata": {},
   "outputs": [],
   "source": [
    "# model creation\n",
    "\n",
    "def model(X_train, Y_train, X_test, Y_test, num_iterations=2000, learning_rate=0.5):\n",
    "  \n",
    "    # initialize parameters with zeros\n",
    "    # and use the \"shape\" function to get the first dimension of X_train\n",
    "    w, b = initialize_with_zeros(X_train.shape[0])\n",
    "    # Gradient descent \n",
    "    # Retrieve parameters w and b from dictionary \"params\"\n",
    "    params,grads,costs=optimize(w, b, X_train, Y_train, num_iterations, learning_rate)\n",
    "    w=params['w']\n",
    "    b=params['b']\n",
    "\n",
    "    # Predict test/train set examples\n",
    "    Y_train_predict =predict(w, b, X_train)\n",
    "    Y_test_predict =predict(w, b, X_test)\n",
    "\n",
    "    # Print train/test Errors\n",
    "    print(\"train accuracy: {} %\".format(100 - np.mean(np.abs(Y_train_predict - Y_train)) * 100))\n",
    "    print(\"test accuracy: {} %\".format(100 - np.mean(np.abs(Y_test_predict - Y_test)) * 100))\n",
    "\n",
    "    \n",
    "    model_data= {\"costs\": costs,\n",
    "         \"Y_train_predict\": Y_train_predict, \n",
    "         \"Y_test_predict\" : Y_test_predict, \n",
    "         \"w\" : w, \n",
    "         \"b\" : b,\n",
    "         \"learning_rate\" : learning_rate,\n",
    "         \"num_iterations\": num_iterations}\n",
    "    \n",
    "    return model_data"
   ]
  },
  {
   "cell_type": "markdown",
   "metadata": {},
   "source": [
    "Pass"
   ]
  },
  {
   "cell_type": "code",
   "execution_count": 65,
   "metadata": {},
   "outputs": [
    {
     "name": "stdout",
     "output_type": "stream",
     "text": [
      "Cost after iteration 0: 0.693147\n",
      "Cost after iteration 100: 0.584508\n",
      "Cost after iteration 200: 0.466949\n",
      "Cost after iteration 300: 0.376007\n",
      "Cost after iteration 400: 0.331463\n",
      "Cost after iteration 500: 0.303273\n",
      "Cost after iteration 600: 0.279880\n",
      "Cost after iteration 700: 0.260042\n",
      "Cost after iteration 800: 0.242941\n",
      "Cost after iteration 900: 0.228004\n",
      "Cost after iteration 1000: 0.214820\n",
      "Cost after iteration 1100: 0.203078\n",
      "Cost after iteration 1200: 0.192544\n",
      "Cost after iteration 1300: 0.183033\n",
      "Cost after iteration 1400: 0.174399\n",
      "Cost after iteration 1500: 0.166521\n",
      "Cost after iteration 1600: 0.159305\n",
      "Cost after iteration 1700: 0.152667\n",
      "Cost after iteration 1800: 0.146542\n",
      "Cost after iteration 1900: 0.140872\n",
      "train accuracy: 99.04306220095694 %\n",
      "test accuracy: 70.0 %\n"
     ]
    },
    {
     "data": {
      "image/png": "[encoded data removed]",
      "text/plain": [
       "<Figure size 640x480 with 1 Axes>"
      ]
     },
     "metadata": {},
     "output_type": "display_data"
    }
   ],
   "source": [
    "# model and fit \n",
    "logistic_regression_model = model(train_set_x, train_set_y, test_set_x, test_set_y, num_iterations=2000, learning_rate=0.005)\n",
    "# Plot learning curve (with costs)\n",
    "costs = logistic_regression_model['costs']\n",
    "plt.plot(costs)\n",
    "plt.ylabel('cost')\n",
    "plt.xlabel('iterations (per hundreds)')\n",
    "plt.title(\"Learning rate =\" + str(logistic_regression_model[\"learning_rate\"]))\n",
    "plt.show()"
   ]
  }
 ],
 "metadata": {
  "kernelspec": {
   "display_name": "Python 3",
   "language": "python",
   "name": "python3"
  },
  "language_info": {
   "codemirror_mode": {
    "name": "ipython",
    "version": 3
   },
   "file_extension": ".py",
   "mimetype": "text/x-python",
   "name": "python",
   "nbconvert_exporter": "python",
   "pygments_lexer": "ipython3",
   "version": "3.11.0"
  }
 },
 "nbformat": 4,
 "nbformat_minor": 2
}
